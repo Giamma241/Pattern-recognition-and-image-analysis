{
 "cells": [
  {
   "cell_type": "markdown",
   "metadata": {},
   "source": [
    "# Machine Learning 2 - Neural Networks\n",
    "\n",
    "In this lab, we will use simple Neural Networks to classify the images from the simplified CIFAR-10 dataset. We will compare our results with those obtained with Decision Trees and Random Forests.\n",
    "\n",
    "Lab objectives\n",
    "----\n",
    "* Classification with neural networks\n",
    "* Influence of hidden layers and of the selected features on the classifier results"
   ]
  },
  {
   "cell_type": "code",
   "execution_count": 1,
   "metadata": {},
   "outputs": [],
   "source": [
    "# imports\n",
    "from lab_tools import CIFAR10, get_hog_image\n",
    "from matplotlib import pyplot as plt\n",
    "import numpy as np\n",
    "from sklearn.preprocessing import StandardScaler\n",
    "from sklearn.neural_network import MLPClassifier\n",
    "from sklearn.model_selection import StratifiedKFold, cross_val_score, cross_val_predict, GridSearchCV\n",
    "from sklearn.metrics import accuracy_score, confusion_matrix, classification_report"
   ]
  },
  {
   "cell_type": "code",
   "execution_count": 35,
   "metadata": {},
   "outputs": [
    {
     "name": "stdout",
     "output_type": "stream",
     "text": [
      "Pre-loading training data\n",
      "Pre-loading test data\n"
     ]
    }
   ],
   "source": [
    "dataset = CIFAR10('data/CIFAR10/')\n",
    "\n",
    "# Data\n",
    "X_train, y_train = dataset.train['hog'], dataset.train['labels']\n",
    "X_test, y_test = dataset.test['hog'], dataset.test['labels']"
   ]
  },
  {
   "cell_type": "code",
   "execution_count": 36,
   "metadata": {},
   "outputs": [],
   "source": [
    "# Standardize so PCA isn’t dominated by large‐scale features\n",
    "scaler = StandardScaler()\n",
    "X_train_scaled = scaler.fit_transform(dataset.train['hog'])\n",
    "X_test_scaled = scaler.transform(dataset.test['hog'])"
   ]
  },
  {
   "cell_type": "markdown",
   "metadata": {},
   "source": [
    "We will use the *[Multi-Layer Perceptron](http://scikit-learn.org/stable/modules/generated/sklearn.neural_network.MLPClassifier.html#sklearn.neural_network.MLPClassifier)* implementation from scikit-learn, which is only available since version 0.18. You can check which version of scikit-learn is installed by executing this :"
   ]
  },
  {
   "cell_type": "code",
   "execution_count": 3,
   "metadata": {},
   "outputs": [
    {
     "name": "stdout",
     "output_type": "stream",
     "text": [
      "1.5.2\n"
     ]
    }
   ],
   "source": [
    "import sklearn\n",
    "print(sklearn.__version__)"
   ]
  },
  {
   "cell_type": "markdown",
   "metadata": {},
   "source": [
    "If you have version 0.17 or older, please update your scikit-learn installation (for instance, with the command *pip install scikit-learn==0.19.1* in the terminal or Anaconda prompt)"
   ]
  },
  {
   "cell_type": "markdown",
   "metadata": {},
   "source": [
    "## Build a simple neural network\n",
    "\n",
    "* Using the [MLPClassifier](http://scikit-learn.org/stable/modules/generated/sklearn.neural_network.MLPClassifier.html) from scikit-learn, create a neural network with a single hidden layer.\n",
    "* Train this network on the CIFAR dataset.\n",
    "* Using cross-validation, try to find the best possible parameters."
   ]
  },
  {
   "cell_type": "code",
   "execution_count": null,
   "metadata": {},
   "outputs": [
    {
     "name": "stdout",
     "output_type": "stream",
     "text": [
      "--- Descriptive performance ---\n",
      "Training accuracy: 1.0000\n",
      "Training confusion matrix:\n",
      "[[5000    0    0]\n",
      " [   0 5000    0]\n",
      " [   0    0 5000]]\n",
      "\n",
      "--- Predictive performance (5‑fold CV) ---\n",
      "Fold accuracies:  [0.788  0.7953 0.7903 0.791  0.7983]\n",
      "Mean CV accuracy: 0.7926\n",
      "Overall CV accuracy: 0.7926\n",
      "CV confusion matrix:\n",
      "[[4047  654  299]\n",
      " [ 619 3747  634]\n",
      " [ 226  679 4095]]\n"
     ]
    }
   ],
   "source": [
    "%%time\n",
    "\n",
    "# descriptive performance on full training set\n",
    "mlp = MLPClassifier(\n",
    "    hidden_layer_sizes=(100,),  # one hidden layer of 100 units\n",
    "    activation='relu',\n",
    "    alpha=1e-4,\n",
    "    learning_rate_init=1e-3,\n",
    "    max_iter=200,\n",
    "    random_state=0\n",
    ")\n",
    "mlp.fit(X_train_scaled, y_train)\n",
    "\n",
    "y_train_pred = mlp.predict(X_train_scaled)\n",
    "train_acc = accuracy_score(y_train, y_train_pred)\n",
    "train_cm = confusion_matrix(y_train, y_train_pred)\n",
    "\n",
    "print(\"--- Descriptive performance ---\")\n",
    "print(f\"Training accuracy: {train_acc:.4f}\")\n",
    "print(\"Training confusion matrix:\")\n",
    "print(train_cm)\n",
    "\n",
    "# predictive performance (5‑fold cross‑validation)\n",
    "cv = StratifiedKFold(n_splits=5, shuffle=True, random_state=0)\n",
    "cv_scores = cross_val_score(\n",
    "    mlp,\n",
    "    X_train_scaled, y_train,\n",
    "    cv=5,\n",
    "    scoring='accuracy',\n",
    "    n_jobs=-1\n",
    ")\n",
    "y_cv_pred = cross_val_predict(mlp, X_train_scaled, y_train, cv=5)\n",
    "cv_acc = accuracy_score(y_train, y_cv_pred)\n",
    "cv_cm = confusion_matrix(y_train, y_cv_pred)\n",
    "\n",
    "print(\"\\n--- Predictive performance (5‑fold CV) ---\")\n",
    "print(\"Fold accuracies: \", np.round(cv_scores, 4))\n",
    "print(f\"Mean CV accuracy: {cv_scores.mean():.4f}\")\n",
    "print(f\"Overall CV accuracy: {cv_acc:.4f}\")\n",
    "print(\"CV confusion matrix:\")\n",
    "print(cv_cm)"
   ]
  },
  {
   "cell_type": "code",
   "execution_count": 21,
   "metadata": {},
   "outputs": [
    {
     "name": "stdout",
     "output_type": "stream",
     "text": [
      "\n",
      "--- Hyperparameter search results ---\n",
      "Best parameters:  {'activation': 'relu', 'alpha': 0.0001, 'hidden_layer_sizes': (200,), 'learning_rate_init': 0.001}\n",
      "Best 5‑fold CV accuracy: 0.8058\n",
      "CPU times: total: 1min 22s\n",
      "Wall time: 4min 24s\n"
     ]
    }
   ],
   "source": [
    "%%time\n",
    "\n",
    "# define the hyperparameter grid to search\n",
    "param_grid = {\n",
    "    'hidden_layer_sizes': [(50,), (100,), (200,)],\n",
    "    'activation': ['relu', 'tanh'],\n",
    "    'alpha': [1e-4, 1e-3, 1e-2],\n",
    "    'learning_rate_init': [1e-3, 1e-2]\n",
    "}\n",
    "\n",
    "base_mlp = MLPClassifier(max_iter=200, random_state=0)\n",
    "\n",
    "# set up and run a grid search over the above parameters\n",
    "grid = GridSearchCV(\n",
    "    base_mlp,\n",
    "    param_grid,\n",
    "    cv=5,\n",
    "    scoring='accuracy',\n",
    "    n_jobs=-1\n",
    ")\n",
    "grid.fit(X_train_scaled, y_train)\n",
    "\n",
    "# report best results\n",
    "print(\"\\n--- Hyperparameter search results ---\")\n",
    "print(\"Best parameters: \", grid.best_params_)\n",
    "print(f\"Best 5‑fold CV accuracy: {grid.best_score_:.4f}\")"
   ]
  },
  {
   "cell_type": "code",
   "execution_count": 47,
   "metadata": {},
   "outputs": [],
   "source": [
    "# run cross validation but break after one fold\n",
    "kf = StratifiedKFold(n_splits=5, shuffle=True, random_state=0)\n",
    "\n",
    "cms = []\n",
    "accs = []\n",
    "\n",
    "for train,test in kf.split(dataset.train['hog'], dataset.train['labels']):\n",
    "    train_x = dataset.train['hog'][train]\n",
    "    train_y = dataset.train['labels'][train]\n",
    "\n",
    "    clf = MLPClassifier(hidden_layer_sizes=(50,), \n",
    "                        learning_rate_init = 0.01, \n",
    "                        verbose=False, \n",
    "                        early_stopping=True)\n",
    "    clf.fit(train_x, train_y)\n",
    "    \n",
    "    test_x = dataset.train['hog'][test]\n",
    "    test_y = dataset.train['labels'][test]\n",
    "    pred = clf.predict(test_x)\n",
    "    cms.append(confusion_matrix(test_y, pred))\n",
    "    accs.append(accuracy_score(test_y, pred))\n",
    "    break"
   ]
  },
  {
   "cell_type": "code",
   "execution_count": 48,
   "metadata": {},
   "outputs": [
    {
     "name": "stdout",
     "output_type": "stream",
     "text": [
      "---\n",
      "[[733 208  59]\n",
      " [100 763 137]\n",
      " [ 53 168 779]]\n",
      "Accuracy=0.76\n"
     ]
    }
   ],
   "source": [
    "# confusion matrix for one fold\n",
    "for cm,acc in zip(cms, accs):\n",
    "    print(\"---\")\n",
    "    print(cm)\n",
    "    print(f\"Accuracy={acc:.2f}\")"
   ]
  },
  {
   "cell_type": "code",
   "execution_count": 49,
   "metadata": {},
   "outputs": [
    {
     "name": "stdout",
     "output_type": "stream",
     "text": [
      "(256, 50)\n",
      "(50, 3)\n"
     ]
    }
   ],
   "source": [
    "# inspect the shape of each layer’s weight matrix\n",
    "print(clf.coefs_[0].shape) # weights btw inputs and hidden layer\n",
    "print(clf.coefs_[1].shape) # weights btw hidden layer and output"
   ]
  },
  {
   "cell_type": "code",
   "execution_count": 50,
   "metadata": {},
   "outputs": [
    {
     "data": {
      "image/png": "[encoded data removed]",
      "text/plain": [
       "<Figure size 1000x500 with 1 Axes>"
      ]
     },
     "metadata": {},
     "output_type": "display_data"
    }
   ],
   "source": [
    "# how strongly does each hidden neuron influence *any* output?\n",
    "plt.figure(figsize=(10,5))\n",
    "plt.hist(np.abs(clf.coefs_[1]).max(axis=1), bins=100)\n",
    "plt.title(\"Histogram of max weight per hidden neuron\")\n",
    "plt.show()"
   ]
  },
  {
   "cell_type": "code",
   "execution_count": 51,
   "metadata": {},
   "outputs": [
    {
     "name": "stdout",
     "output_type": "stream",
     "text": [
      "21\n"
     ]
    }
   ],
   "source": [
    "# count “extreme” neurons\n",
    "print((np.abs(clf.coefs_[1]).max(axis=1)>1).sum())"
   ]
  },
  {
   "cell_type": "code",
   "execution_count": 52,
   "metadata": {},
   "outputs": [
    {
     "name": "stdout",
     "output_type": "stream",
     "text": [
      "Most positive driver for each class: [23 23 19]\n",
      "Positive weight values: [2.27320738 1.76854536 1.62071454]\n",
      "Most negative driver for each class: [ 0  1 23]\n",
      "Negative weight values: [-1.65905173 -3.02201459 -4.38258297]\n"
     ]
    }
   ],
   "source": [
    "# which neuron drives each class the most positively or negatively?\n",
    "print(\"Most positive driver for each class:\",\n",
    "      clf.coefs_[1].argmax(axis=0))\n",
    "print(\"Positive weight values:\", \n",
    "      clf.coefs_[1].max(axis=0))\n",
    "\n",
    "print(\"Most negative driver for each class:\",\n",
    "      clf.coefs_[1].argmin(axis=0))\n",
    "print(\"Negative weight values:\", \n",
    "      clf.coefs_[1].min(axis=0))"
   ]
  },
  {
   "cell_type": "code",
   "execution_count": 53,
   "metadata": {},
   "outputs": [
    {
     "data": {
      "image/png": "[encoded data removed]",
      "text/plain": [
       "<Figure size 640x480 with 1 Axes>"
      ]
     },
     "metadata": {},
     "output_type": "display_data"
    }
   ],
   "source": [
    "%matplotlib inline\n",
    "\n",
    "# visualize the receptive field of hidden neuron i = 1\n",
    "i = 1\n",
    "hog = get_hog_image(\n",
    "    clf.coefs_[0][:, i].reshape((4,4,16)),\n",
    "    output_size=256\n",
    ")\n",
    "plt.imshow(hog / hog.max())\n",
    "plt.title(f\"Hidden-unit {i}, output weights: {clf.coefs_[1][i]}\")\n",
    "plt.show()"
   ]
  },
  {
   "cell_type": "markdown",
   "metadata": {},
   "source": [
    "### What This Tells Us About the Network\n",
    "\n",
    "- 25 hidden units have at least one outgoing weight with magnitude > 1.0. This tells us roughly half the hidden layer is “strongly wired” to affect the final decision, while the others play a more subdued role (neurons may saturate their activations).\n",
    "- a relatively small subset of neurons carry the bulk of the decision-making weight, suggesting a **sparse, specialized representation**.\n",
    "- if one feature has a much larger numeric range than another, its weights get updated with much larger steps, which can make training slow or unstable. Normalization ensures every dimension contributes roughly equally.\n",
    "- by visualizing the `input→hidden` weights for those top driver units (using the HOG-image plot you made), it's possible to interpret which edge-orientation patterns the network deems most distinctive for airplanes, birds, and horses."
   ]
  },
  {
   "cell_type": "code",
   "execution_count": 7,
   "metadata": {},
   "outputs": [
    {
     "name": "stdout",
     "output_type": "stream",
     "text": [
      "Fitting 5 folds for each of 20 candidates, totalling 100 fits\n",
      "\n",
      "--- Hyperparameter search results ---\n",
      "Best parameters:  {'activation': 'relu', 'alpha': 0.001, 'hidden_layer_sizes': (100,), 'learning_rate_init': 0.001}\n",
      "Best architecture:  (100,)\n",
      "Best activation:  relu\n",
      "Best alpha:  0.001\n",
      "Best η₀:  0.001\n",
      "Best 5‑fold CV accuracy: 0.7937\n",
      "CPU times: total: 19.5 s\n",
      "Wall time: 1min 43s\n"
     ]
    }
   ],
   "source": [
    "%%time\n",
    "\n",
    "# define a StratifiedKFold splitter\n",
    "cv = StratifiedKFold(n_splits=5, shuffle=True, random_state=0)\n",
    "\n",
    "# define the hyperparameter grid to search\n",
    "param_grid = {\n",
    "    'hidden_layer_sizes': [\n",
    "        (50,), (100,),    # 1‑layer nets\n",
    "        (50,50), (100,50),# 2‑layer nets\n",
    "        (100,100,50)      # 3‑layer net\n",
    "    ],\n",
    "    'activation':         ['relu'],\n",
    "    'alpha':              [1e-4, 1e-3], \n",
    "    'learning_rate_init': [1e-3, 1e-2]\n",
    "}\n",
    "\n",
    "# set up and run a grid search over the above parameters\n",
    "base_mlp = MLPClassifier(max_iter=300, random_state=0)\n",
    "grid = GridSearchCV(\n",
    "    base_mlp,\n",
    "    param_grid,\n",
    "    cv=cv,\n",
    "    scoring='accuracy',\n",
    "    n_jobs=-1,\n",
    "    verbose=1\n",
    ")\n",
    "grid.fit(X_train_scaled, y_train)\n",
    "\n",
    "# report best results\n",
    "print(\"\\n--- Hyperparameter search results ---\")\n",
    "print(\"Best parameters: \", grid.best_params_)\n",
    "print(\"Best architecture: \", grid.best_params_['hidden_layer_sizes'])\n",
    "print(\"Best activation: \", grid.best_params_['activation'])\n",
    "print(\"Best alpha: \", grid.best_params_['alpha'])\n",
    "print(\"Best η₀: \", grid.best_params_['learning_rate_init'])\n",
    "print(f\"Best 5‑fold CV accuracy: {grid.best_score_:.4f}\")"
   ]
  },
  {
   "cell_type": "code",
   "execution_count": 37,
   "metadata": {},
   "outputs": [
    {
     "name": "stdout",
     "output_type": "stream",
     "text": [
      "--- Final Test-Set Performance ---\n",
      "Test accuracy: 0.8000\n",
      "\n",
      "Confusion matrix:\n",
      "[[818 132  50]\n",
      " [108 755 137]\n",
      " [ 47 126 827]] \n",
      "\n",
      "Classification report:\n",
      "              precision    recall  f1-score   support\n",
      "\n",
      "    Airplane       0.84      0.82      0.83      1000\n",
      "        Bird       0.75      0.76      0.75      1000\n",
      "       Horse       0.82      0.83      0.82      1000\n",
      "\n",
      "    accuracy                           0.80      3000\n",
      "   macro avg       0.80      0.80      0.80      3000\n",
      "weighted avg       0.80      0.80      0.80      3000\n",
      "\n",
      "CPU times: total: 20 s\n",
      "Wall time: 11 s\n"
     ]
    }
   ],
   "source": [
    "%%time\n",
    "\n",
    "# final model\n",
    "mlp = MLPClassifier(\n",
    "    hidden_layer_sizes=(100,),\n",
    "    activation='relu',\n",
    "    alpha=0.001,\n",
    "    learning_rate_init=0.001,\n",
    "    max_iter=300,\n",
    "    random_state=0\n",
    ")\n",
    "\n",
    "# (re-)fit it on the *entire* training set\n",
    "mlp.fit(X_train_scaled, y_train)\n",
    "\n",
    "# predict on the test set\n",
    "y_test_pred = mlp.predict(X_test_scaled)\n",
    "\n",
    "# compute and print your final metrics\n",
    "test_acc = accuracy_score(y_test, y_test_pred)\n",
    "test_cm = confusion_matrix(y_test, y_test_pred)\n",
    "\n",
    "print(\"--- Final Test-Set Performance ---\")\n",
    "print(f\"Test accuracy: {test_acc:.4f}\\n\")\n",
    "print(\"Confusion matrix:\")\n",
    "print(test_cm, \"\\n\")\n",
    "print(\"Classification report:\")\n",
    "print(classification_report(y_test, y_test_pred, target_names=dataset.labels))"
   ]
  },
  {
   "cell_type": "markdown",
   "metadata": {},
   "source": [
    "## [EXTRA] CNN Test"
   ]
  },
  {
   "cell_type": "markdown",
   "metadata": {},
   "source": [
    "### CNN with tensorflow"
   ]
  },
  {
   "cell_type": "code",
   "execution_count": 30,
   "metadata": {},
   "outputs": [
    {
     "name": "stdout",
     "output_type": "stream",
     "text": [
      "Epoch 1/10\n"
     ]
    },
    {
     "name": "stderr",
     "output_type": "stream",
     "text": [
      "C:\\Users\\gianm\\miniforge3\\envs\\test\\Lib\\site-packages\\keras\\src\\layers\\convolutional\\base_conv.py:107: UserWarning: Do not pass an `input_shape`/`input_dim` argument to a layer. When using Sequential models, prefer using an `Input(shape)` object as the first layer in the model instead.\n",
      "  super().__init__(activity_regularizer=activity_regularizer, **kwargs)\n"
     ]
    },
    {
     "name": "stdout",
     "output_type": "stream",
     "text": [
      "188/188 - 4s - 23ms/step - accuracy: 0.6324 - loss: 0.8077 - val_accuracy: 0.7590 - val_loss: 0.5905\n",
      "Epoch 2/10\n",
      "188/188 - 2s - 10ms/step - accuracy: 0.7566 - loss: 0.5764 - val_accuracy: 0.7963 - val_loss: 0.5140\n",
      "Epoch 3/10\n",
      "188/188 - 2s - 10ms/step - accuracy: 0.7977 - loss: 0.4969 - val_accuracy: 0.8063 - val_loss: 0.4684\n",
      "Epoch 4/10\n",
      "188/188 - 2s - 10ms/step - accuracy: 0.8198 - loss: 0.4518 - val_accuracy: 0.8157 - val_loss: 0.4351\n",
      "Epoch 5/10\n",
      "188/188 - 2s - 10ms/step - accuracy: 0.8347 - loss: 0.4136 - val_accuracy: 0.8273 - val_loss: 0.4163\n",
      "Epoch 6/10\n",
      "188/188 - 2s - 10ms/step - accuracy: 0.8457 - loss: 0.3941 - val_accuracy: 0.8233 - val_loss: 0.4460\n",
      "Epoch 7/10\n",
      "188/188 - 2s - 10ms/step - accuracy: 0.8538 - loss: 0.3682 - val_accuracy: 0.8397 - val_loss: 0.3926\n",
      "Epoch 8/10\n",
      "188/188 - 2s - 10ms/step - accuracy: 0.8663 - loss: 0.3375 - val_accuracy: 0.8340 - val_loss: 0.3996\n",
      "Epoch 9/10\n",
      "188/188 - 2s - 10ms/step - accuracy: 0.8772 - loss: 0.3179 - val_accuracy: 0.8363 - val_loss: 0.4028\n",
      "Epoch 10/10\n",
      "188/188 - 2s - 10ms/step - accuracy: 0.8804 - loss: 0.2986 - val_accuracy: 0.8467 - val_loss: 0.3855\n",
      "\u001b[1m94/94\u001b[0m \u001b[32m━━━━━━━━━━━━━━━━━━━━\u001b[0m\u001b[37m\u001b[0m \u001b[1m1s\u001b[0m 5ms/step\n",
      "CNN validation accuracy: 0.8467\n",
      "Confusion matrix:\n",
      " [[919  51  30]\n",
      " [153 758  89]\n",
      " [ 39  98 863]]\n"
     ]
    }
   ],
   "source": [
    "from tensorflow.keras import layers, models\n",
    "from tensorflow.keras.utils import to_categorical\n",
    "from sklearn.model_selection import train_test_split\n",
    "\n",
    "# prepare the data: reshape + normalize + one-hot\n",
    "X = dataset.train['images'].reshape(-1, 32, 32, 3).astype('float32') / 255.0\n",
    "y = to_categorical(dataset.train['labels'], num_classes=3)\n",
    "\n",
    "# split off a held-out validation set\n",
    "X_train, X_val, y_train, y_val = train_test_split(\n",
    "    X, y, test_size=0.2, stratify=dataset.train['labels'], random_state=0\n",
    ")\n",
    "\n",
    "# define a simple CNN\n",
    "model = models.Sequential([\n",
    "    layers.Conv2D(32, (3,3), activation='relu', input_shape=(32,32,3)),\n",
    "    layers.MaxPooling2D((2,2)),\n",
    "    layers.Conv2D(64, (3,3), activation='relu'),\n",
    "    layers.MaxPooling2D((2,2)),\n",
    "    layers.Flatten(),\n",
    "    layers.Dense(64, activation='relu'),\n",
    "    layers.Dense(3, activation='softmax'),\n",
    "])\n",
    "\n",
    "model.compile(\n",
    "    optimizer='adam',\n",
    "    loss='categorical_crossentropy',\n",
    "    metrics=['accuracy']\n",
    ")\n",
    "\n",
    "# train\n",
    "history = model.fit(\n",
    "    X_train, y_train,\n",
    "    epochs=10,\n",
    "    batch_size=64,\n",
    "    validation_data=(X_val, y_val),\n",
    "    verbose=2\n",
    ")\n",
    "\n",
    "# evaluate on the validation set\n",
    "y_val_pred_proba = model.predict(X_val)\n",
    "y_val_pred = np.argmax(y_val_pred_proba, axis=1)\n",
    "y_val_true = np.argmax(y_val, axis=1)\n",
    "\n",
    "acc = accuracy_score(y_val_true, y_val_pred)\n",
    "cm = confusion_matrix(y_val_true, y_val_pred)\n",
    "\n",
    "print(f\"CNN validation accuracy: {acc:.4f}\")\n",
    "print(\"Confusion matrix:\\n\", cm)"
   ]
  },
  {
   "cell_type": "markdown",
   "metadata": {},
   "source": [
    "### CNN with torch"
   ]
  },
  {
   "cell_type": "code",
   "execution_count": 33,
   "metadata": {},
   "outputs": [
    {
     "name": "stdout",
     "output_type": "stream",
     "text": [
      "Epoch 1/50  Train loss: 0.7108  Val acc: 0.7703\n",
      " New best model saved.\n",
      "Epoch 2/50  Train loss: 0.5430  Val acc: 0.7787\n",
      " New best model saved.\n",
      "Epoch 3/50  Train loss: 0.4680  Val acc: 0.7967\n",
      " New best model saved.\n",
      "Epoch 4/50  Train loss: 0.4228  Val acc: 0.8403\n",
      " New best model saved.\n",
      "Epoch 5/50  Train loss: 0.3802  Val acc: 0.8463\n",
      " New best model saved.\n",
      "Epoch 6/50  Train loss: 0.3447  Val acc: 0.8510\n",
      " New best model saved.\n",
      "Epoch 7/50  Train loss: 0.3155  Val acc: 0.8663\n",
      " New best model saved.\n",
      "Epoch 8/50  Train loss: 0.2900  Val acc: 0.8580\n",
      "Epoch 9/50  Train loss: 0.2695  Val acc: 0.8587\n",
      "Epoch 10/50  Train loss: 0.2525  Val acc: 0.8693\n",
      " New best model saved.\n",
      "Epoch 11/50  Train loss: 0.2156  Val acc: 0.8603\n",
      "Epoch 12/50  Train loss: 0.2034  Val acc: 0.8690\n",
      "Epoch 13/50  Train loss: 0.1730  Val acc: 0.8620\n",
      "Early stopping triggered.\n"
     ]
    }
   ],
   "source": [
    "import torch\n",
    "import torch.nn as nn\n",
    "import torch.nn.functional as F\n",
    "import torch.optim as optim\n",
    "from torch.utils.data import DataLoader, TensorDataset, random_split\n",
    "\n",
    "# data\n",
    "flat_images = dataset.train['images']                 # shape: (n_samples, 3072)\n",
    "X = flat_images.reshape(-1, 32, 32, 3).astype('float32') / 255.0\n",
    "y = dataset.train['labels'].astype(np.int64)\n",
    "\n",
    "# convert to torch tensors and reorder to (N, 3, 32, 32)\n",
    "X_tensor = torch.from_numpy(X).permute(0,3,1,2)\n",
    "y_tensor = torch.from_numpy(y)\n",
    "\n",
    "# split into train/val (80/20)\n",
    "dataset_torch = TensorDataset(X_tensor, y_tensor)\n",
    "n_train = int(len(dataset_torch) * 0.8)\n",
    "n_val = len(dataset_torch) - n_train\n",
    "train_ds, val_ds = random_split(dataset_torch, [n_train, n_val], generator=torch.Generator().manual_seed(0))\n",
    "\n",
    "batch_size = 64\n",
    "train_loader = DataLoader(train_ds, batch_size=batch_size, shuffle=True,  num_workers=2)\n",
    "val_loader = DataLoader(val_ds, batch_size=batch_size, shuffle=False, num_workers=2)\n",
    "\n",
    "# a simple CNN for classification\n",
    "class SimpleCNNClassifier(nn.Module):\n",
    "    def __init__(self, n_classes=3):\n",
    "        super().__init__()\n",
    "        self.conv1 = nn.Conv2d(3,  32, kernel_size=3, padding=1)\n",
    "        self.conv2 = nn.Conv2d(32, 64, kernel_size=3, padding=1)\n",
    "        self.pool  = nn.MaxPool2d(2, 2)\n",
    "        self.dropout = nn.Dropout(0.25)\n",
    "        self.fc1   = nn.Linear(64 * 8 * 8, 128)\n",
    "        self.fc2   = nn.Linear(128, n_classes)\n",
    "\n",
    "    def forward(self, x):\n",
    "        x = self.pool(F.relu(self.conv1(x)))  # → (N,32,16,16)\n",
    "        x = self.pool(F.relu(self.conv2(x)))  # → (N,64,8,8)\n",
    "        x = x.view(x.size(0), -1)             # → (N,64*8*8)\n",
    "        x = F.relu(self.fc1(x))\n",
    "        x = self.dropout(x)\n",
    "        x = self.fc2(x)\n",
    "        return x\n",
    "\n",
    "# use GPU if available\n",
    "device = torch.device(\"cuda\" if torch.cuda.is_available() else \"cpu\")\n",
    "model = SimpleCNNClassifier().to(device)\n",
    "\n",
    "# loss, optimizer, early stopping\n",
    "criterion = nn.CrossEntropyLoss()\n",
    "optimizer = optim.Adam(model.parameters(), lr=1e-3, weight_decay=1e-4)\n",
    "\n",
    "# training loop\n",
    "max_epochs = 50\n",
    "patience = 3\n",
    "best_val_acc = 0.0\n",
    "epochs_no_improve = 0\n",
    "best_model_path = \"best_cnn.pth\"\n",
    "\n",
    "for epoch in range(1, max_epochs+1):\n",
    "    model.train()\n",
    "    train_loss = 0.0\n",
    "    for Xb, yb in train_loader:\n",
    "        Xb, yb = Xb.to(device), yb.to(device)\n",
    "        optimizer.zero_grad()\n",
    "        logits = model(Xb)\n",
    "        loss   = criterion(logits, yb)\n",
    "        loss.backward()\n",
    "        optimizer.step()\n",
    "        train_loss += loss.item() * Xb.size(0)\n",
    "    train_loss /= len(train_loader.dataset)\n",
    "\n",
    "    # Validation\n",
    "    model.eval()\n",
    "    all_preds = []\n",
    "    all_labels= []\n",
    "    with torch.no_grad():\n",
    "        for Xb, yb in val_loader:\n",
    "            Xb, yb = Xb.to(device), yb.to(device)\n",
    "            logits = model(Xb)\n",
    "            preds  = torch.argmax(logits, dim=1)\n",
    "            all_preds.append(preds.cpu().numpy())\n",
    "            all_labels.append(yb.cpu().numpy())\n",
    "    y_pred = np.concatenate(all_preds)\n",
    "    y_true = np.concatenate(all_labels)\n",
    "    val_acc = accuracy_score(y_true, y_pred)\n",
    "\n",
    "    print(f\"Epoch {epoch}/{max_epochs}  Train loss: {train_loss:.4f}  Val acc: {val_acc:.4f}\")\n",
    "\n",
    "    # Early stopping on validation accuracy\n",
    "    if val_acc > best_val_acc:\n",
    "        best_val_acc = val_acc\n",
    "        epochs_no_improve = 0\n",
    "        torch.save(model.state_dict(), best_model_path)\n",
    "        print(\" New best model saved.\")\n",
    "    else:\n",
    "        epochs_no_improve += 1\n",
    "        if epochs_no_improve >= patience:\n",
    "            print(\"Early stopping triggered.\")\n",
    "            break"
   ]
  },
  {
   "cell_type": "code",
   "execution_count": null,
   "metadata": {},
   "outputs": [
    {
     "name": "stdout",
     "output_type": "stream",
     "text": [
      "\n",
      "Final Validation Accuracy: 0.8693\n",
      "Confusion Matrix:\n",
      " [[892  64  37]\n",
      " [100 848  72]\n",
      " [ 24  95 868]]\n"
     ]
    }
   ],
   "source": [
    "# load best model & final evaluation\n",
    "model.load_state_dict(torch.load(best_model_path))\n",
    "model.eval()\n",
    "\n",
    "# compute final val confusion matrix\n",
    "all_preds = []\n",
    "all_labels= []\n",
    "with torch.no_grad():\n",
    "    for Xb, yb in val_loader:\n",
    "        Xb, yb = Xb.to(device), yb.to(device)\n",
    "        preds  = torch.argmax(model(Xb), dim=1)\n",
    "        all_preds.append(preds.cpu().numpy())\n",
    "        all_labels.append(yb.cpu().numpy())\n",
    "\n",
    "y_pred = np.concatenate(all_preds)\n",
    "y_true = np.concatenate(all_labels)\n",
    "cm = confusion_matrix(y_true, y_pred)\n",
    "acc = accuracy_score(y_true, y_pred)\n",
    "\n",
    "print(f\"\\nFinal Validation Accuracy: {acc:.4f}\")\n",
    "print(\"Confusion Matrix:\\n\", cm)"
   ]
  }
 ],
 "metadata": {
  "kernelspec": {
   "display_name": "test",
   "language": "python",
   "name": "python3"
  },
  "language_info": {
   "codemirror_mode": {
    "name": "ipython",
    "version": 3
   },
   "file_extension": ".py",
   "mimetype": "text/x-python",
   "name": "python",
   "nbconvert_exporter": "python",
   "pygments_lexer": "ipython3",
   "version": "3.12.7"
  }
 },
 "nbformat": 4,
 "nbformat_minor": 4
}
